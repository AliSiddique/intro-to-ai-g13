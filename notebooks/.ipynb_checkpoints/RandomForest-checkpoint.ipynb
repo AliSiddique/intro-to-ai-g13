{
 "cells": [
  {
   "cell_type": "code",
   "execution_count": 6,
   "metadata": {},
   "outputs": [
    {
     "name": "stderr",
     "output_type": "stream",
     "text": [
      "UsageError: Line magic function `%pip3` not found.\n"
     ]
    }
   ],
   "source": [
    "%pip3 install sklearn"
   ]
  },
  {
   "cell_type": "code",
   "execution_count": null,
   "metadata": {},
   "outputs": [],
   "source": [
    "from sklearn.ensemble import RandomForestClassifier\n",
    "from sklearn.model_selection import train_test_split\n",
    "from sklearn.metrics import accuracy_score, confusion_matrix, classification_report, f1_score, recall_score\n",
    "import matplotlib.pyplot as plt\n",
    "import numpy as np\n",
    "import pandas as pd\n",
    "from sklearn.preprocessing import MinMaxScaler\n",
    "\n",
    "spotify_df = pd.read_csv('../spotify_data.csv')\n",
    "selected_features = ['energy', 'loudness', 'liveness', 'instrumentalness', 'danceability']\n",
    "spotify_df = spotify_df[selected_features]\n",
    "\n",
    "# Min Max scaling to nromalise the data\n",
    "scaler = MinMaxScaler()\n",
    "spotify_df[selected_features[:-1]] = scaler.fit_transform(spotify_df[selected_features[:-1]])\n",
    "\n",
    "# Split data into training and testing sets\n",
    "X = spotify_df[selected_features[:-1]]\n",
    "y = spotify_df['danceability']\n",
    "X_train, X_test, y_train, y_test = train_test_split(X, y, test_size=0.2, random_state=42)\n",
    "\n",
    "# Convert labels to binary classification (0 or 1) based on threshold\n",
    "threshold = 0.5\n",
    "y_train_binary = np.where(y_train > threshold, 1, 0)\n",
    "y_test_binary = np.where(y_test > threshold, 1, 0)\n",
    "\n",
    "# Initialise Random Forest Classifier\n",
    "rf_classifier = RandomForestClassifier(n_estimators=100, random_state=42)\n",
    "\n",
    "# Train the model\n",
    "rf_classifier.fit(X_train, y_train_binary)\n",
    "\n",
    "# Predict on test set\n",
    "y_pred_rf = rf_classifier.predict(X_test)\n",
    "\n",
    "# Evaluate model\n",
    "accuracy_rf = accuracy_score(y_test_binary, y_pred_rf)\n",
    "f1_rf = f1_score(y_test_binary, y_pred_rf)\n",
    "recall_rf = recall_score(y_test_binary, y_pred_rf)\n",
    "\n",
    "# Print metrics\n",
    "print(f\"Accuracy (Random Forest): {accuracy_rf}\")\n",
    "print(f\"F1 Score (Random Forest): {f1_rf}\")"
   ]
  },
  {
   "cell_type": "code",
   "execution_count": null,
   "metadata": {},
   "outputs": [],
   "source": []
  },
  {
   "cell_type": "code",
   "execution_count": null,
   "metadata": {},
   "outputs": [],
   "source": [
    "import time\n",
    "\n",
    "# Start timer\n",
    "start_time = time.time()\n",
    "\n",
    "# Train the model\n",
    "rf_classifier.fit(X_train, y_train_binary)\n",
    "\n",
    "# End timer and print training time\n",
    "training_time = time.time() - start_time\n",
    "print(f\"Training Time: {training_time:.2f} seconds\")\n",
    "\n",
    "# Start timer\n",
    "start_time = time.time()\n",
    "\n",
    "# Predict on test set\n",
    "y_pred_rf = rf_classifier.predict(X_test)\n",
    "\n",
    "# End timer and print prediction time\n",
    "prediction_time = time.time() - start_time\n",
    "print(f\"Prediction Time: {prediction_time:.2f} seconds\")\n"
   ]
  },
  {
   "cell_type": "code",
   "execution_count": null,
   "metadata": {},
   "outputs": [],
   "source": [
    "# Define different numbers of trees to test\n",
    "n_estimators_list = [10, 50, 100, 200]\n",
    "\n",
    "# Store metrics for each model\n",
    "metrics = {'n_estimators': [], 'accuracy': [], 'f1_score': [], 'recall': []}\n",
    "\n",
    "for n in n_estimators_list:\n",
    "    # Initialise the Random Forest with the current number of trees\n",
    "    rf = RandomForestClassifier(n_estimators=n, random_state=42)\n",
    "    \n",
    "    # Train the model\n",
    "    rf.fit(X_train, y_train_binary)\n",
    "    \n",
    "    # Predict on test set\n",
    "    y_pred = rf.predict(X_test)\n",
    "    \n",
    "    # Store metrics\n",
    "    metrics['n_estimators'].append(n)\n",
    "    metrics['accuracy'].append(accuracy_score(y_test_binary, y_pred))\n",
    "    metrics['f1_score'].append(f1_score(y_test_binary, y_pred))\n",
    "    metrics['recall'].append(recall_score(y_test_binary, y_pred))\n"
   ]
  },
  {
   "cell_type": "code",
   "execution_count": null,
   "metadata": {},
   "outputs": [],
   "source": [
    "# Plot Accuracy vs Number of Estimators\n",
    "plt.figure(figsize=(10, 6))\n",
    "plt.plot(metrics['n_estimators'], metrics['accuracy'], label='Accuracy', marker='o')\n",
    "plt.plot(metrics['n_estimators'], metrics['f1_score'], label='F1 Score', marker='o')\n",
    "plt.plot(metrics['n_estimators'], metrics['recall'], label='Recall', marker='o')\n",
    "plt.xlabel('Number of Estimators')\n",
    "plt.ylabel('Scores')\n",
    "plt.title('Model Performance for Different Number of Estimators')\n",
    "plt.legend()\n",
    "plt.grid(True)\n",
    "plt.show()"
   ]
  }
 ],
 "metadata": {
  "kernelspec": {
   "display_name": "Python 3 (ipykernel)",
   "language": "python",
   "name": "python3"
  },
  "language_info": {
   "codemirror_mode": {
    "name": "ipython",
    "version": 3
   },
   "file_extension": ".py",
   "mimetype": "text/x-python",
   "name": "python",
   "nbconvert_exporter": "python",
   "pygments_lexer": "ipython3",
   "version": "3.11.4"
  }
 },
 "nbformat": 4,
 "nbformat_minor": 2
}
